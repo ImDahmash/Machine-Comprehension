{
 "cells": [
  {
   "cell_type": "code",
   "execution_count": 1,
   "metadata": {
    "collapsed": true
   },
   "outputs": [],
   "source": [
    "import time\n",
    "import numpy as np\n",
    "import tensorflow as tf\n",
    "import re\n",
    "from collections import Counter\n",
    "from time import sleep\n",
    "import json\n",
    "import random"
   ]
  },
  {
   "cell_type": "code",
   "execution_count": 2,
   "metadata": {
    "scrolled": true
   },
   "outputs": [
    {
     "data": {
      "text/plain": [
       "[('NN', 391092),\n",
       " ('IN', 313428),\n",
       " ('NNP', 286327),\n",
       " ('DT', 246818),\n",
       " ('JJ', 194522),\n",
       " ('NNS', 150057),\n",
       " (',', 138811),\n",
       " ('.', 92716),\n",
       " ('CC', 86433),\n",
       " ('VBD', 83807),\n",
       " ('CD', 77651),\n",
       " ('RB', 71899),\n",
       " ('VBN', 69596),\n",
       " ('TO', 48800),\n",
       " ('VBZ', 41862),\n",
       " ('VB', 40118),\n",
       " ('VBG', 35283),\n",
       " (':', 34343),\n",
       " ('VBP', 28324),\n",
       " ('PRP', 24380),\n",
       " ('FW', 22213),\n",
       " ('PRP$', 18771),\n",
       " ('POS', 14923),\n",
       " ('WDT', 13756),\n",
       " (\"''\", 13344),\n",
       " ('``', 12561),\n",
       " ('MD', 11441),\n",
       " ('NNPS', 10637),\n",
       " ('JJS', 6400),\n",
       " ('JJR', 6373),\n",
       " ('WRB', 5119),\n",
       " ('WP', 4378),\n",
       " ('RP', 3189),\n",
       " ('RBR', 2910),\n",
       " ('OTHER', 2645),\n",
       " ('EX', 2623),\n",
       " ('RBS', 2274)]"
      ]
     },
     "execution_count": 2,
     "metadata": {},
     "output_type": "execute_result"
    }
   ],
   "source": [
    "with open('data/pos_train.json') as json_data:\n",
    "    d = json.load(json_data)\n",
    "\n",
    "text=[]\n",
    "l=0\n",
    "\n",
    "for i in d:\n",
    "    for j in i:\n",
    "        for k in j:\n",
    "            text.append(k)\n",
    "\n",
    "tt = []\n",
    "for i in range(len(text)):\n",
    "    if(text[i]!=''):\n",
    "        tt.append(text[i])\n",
    "\n",
    "text = tt\n",
    "\n",
    "for i in range(len(text)):\n",
    "    if(text[i]=='$'or text[i]=='PDT' or text[i]=='WP$' or text[i]==\"SYM\" or text[i]=='LS' or text[i]=='#' or text[i]=='UH'):\n",
    "        text[i]='OTHER'\n",
    "    \n",
    "\n",
    "word_counts = Counter(text)\n",
    "\n",
    "word_counts.most_common()"
   ]
  },
  {
   "cell_type": "code",
   "execution_count": 3,
   "metadata": {
    "collapsed": true
   },
   "outputs": [],
   "source": [
    "def create_lookup_tables(words):\n",
    "    \"\"\"\n",
    "    Create lookup tables for vocabulary\n",
    "    :param words: Input list of words\n",
    "    :return: A tuple of dicts.  The first dict....\n",
    "    \"\"\"\n",
    "    word_counts = Counter(words)\n",
    "    sorted_vocab = sorted(word_counts, key=word_counts.get, reverse=True)\n",
    "    int_to_vocab = {ii: word for ii, word in enumerate(sorted_vocab)}\n",
    "    vocab_to_int = {word: ii for ii, word in int_to_vocab.items()}\n",
    "\n",
    "    return vocab_to_int, int_to_vocab\n",
    "\n",
    "def get_target(words, idx, window_size=5):\n",
    "    ''' Get a list of words in a window around an index. '''\n",
    "    \n",
    "    R = np.random.randint(1, window_size+1)\n",
    "    start = idx - R if (idx - R) > 0 else 0\n",
    "    stop = idx + R\n",
    "    target_words = set(words[start:idx] + words[idx+1:stop+1])\n",
    "    \n",
    "    return list(target_words)\n",
    "\n",
    "\n",
    "def get_batches(words, batch_size, window_size=5):\n",
    "    ''' Create a generator of word batches as a tuple (inputs, targets) '''\n",
    "    \n",
    "    n_batches = len(words)//batch_size\n",
    "    \n",
    "    # only full batches\n",
    "    words = words[:n_batches*batch_size]\n",
    "    for idx in range(0, len(words), batch_size):\n",
    "        x, y = [], []\n",
    "        batch = words[idx:idx+batch_size]\n",
    "        for ii in range(len(batch)):\n",
    "            batch_x = batch[ii]\n",
    "            batch_y = get_target(batch, ii, window_size)\n",
    "            y.extend(batch_y)\n",
    "            x.extend([batch_x]*len(batch_y))\n",
    "        yield x, y"
   ]
  },
  {
   "cell_type": "code",
   "execution_count": 4,
   "metadata": {
    "scrolled": true
   },
   "outputs": [
    {
     "name": "stdout",
     "output_type": "stream",
     "text": [
      "Total words: 2609824\n",
      "Unique words: 37\n"
     ]
    }
   ],
   "source": [
    "words = text\n",
    "\n",
    "print(\"Total words: {}\".format(len(words)))\n",
    "print(\"Unique words: {}\".format(len(set(words))))\n",
    "\n",
    "# vocab_to_int, int_to_vocab = utils.create_lookup_tables(words)\n",
    "vocab_to_int, int_to_vocab = create_lookup_tables(words)\n",
    "int_words = [vocab_to_int[word] for word in words]"
   ]
  },
  {
   "cell_type": "code",
   "execution_count": 5,
   "metadata": {
    "collapsed": true
   },
   "outputs": [],
   "source": [
    "def get_train_word():\n",
    "    threshold = random.uniform(0.08, 0.1)\n",
    "    word_counts = Counter(int_words)\n",
    "    total_count = len(int_words)\n",
    "    freqs = {word: count/total_count for word, count in word_counts.items()}\n",
    "    p_drop = {word: 1 - np.sqrt(threshold/freqs[word]) for word in word_counts}\n",
    "    train_words = [word for word in int_words if random.random() < (1 - p_drop[word])]\n",
    "    return train_words, threshold"
   ]
  },
  {
   "cell_type": "code",
   "execution_count": 6,
   "metadata": {
    "collapsed": true
   },
   "outputs": [],
   "source": [
    "batch_size = 1000\n",
    "window_size = 5\n",
    "n_vocab = len(int_to_vocab)\n",
    "n_embedding =  50\n",
    "starter_learning_rate = 0.001\n",
    "decay_steps = 2000\n",
    "decay_rate = 0.96\n",
    "lambda_l2 = 0.001"
   ]
  },
  {
   "cell_type": "code",
   "execution_count": 7,
   "metadata": {
    "collapsed": true,
    "scrolled": true
   },
   "outputs": [],
   "source": [
    "with tf.device('/device:GPU:3'):\n",
    "\n",
    "    train_graph = tf.Graph()\n",
    "    with train_graph.as_default():\n",
    "        inputs = tf.placeholder(tf.int32, [None], name='inputs')\n",
    "        labels = tf.placeholder(tf.int32, [None], name='labels')\n",
    "\n",
    "        embedding = tf.Variable(tf.random_uniform((n_vocab, n_embedding), -1, 1))\n",
    "        embed = tf.nn.embedding_lookup(embedding, inputs) # use tf.nn.embedding_lookup to get the hidden layer output\n",
    "        embed_drop = tf.nn.dropout(embed, 0.8)\n",
    "\n",
    "        softmax_w = tf.Variable(tf.truncated_normal((n_vocab, n_embedding)), name=\"softmax_w\") # create softmax weight matrix here\n",
    "        softmax_b = tf.Variable(tf.zeros(n_vocab), name=\"softmax_bias\") # create softmax biases here\n",
    "\n",
    "        logits = tf.matmul(embed_drop, tf.transpose(softmax_w)) + softmax_b\n",
    "        labels_one_hot = tf.one_hot(labels, n_vocab)\n",
    "        \n",
    "        tv_all = tf.trainable_variables()\n",
    "\n",
    "        l2_loss = lambda_l2 * tf.reduce_sum([ tf.nn.l2_loss(v) for v in tv_all ])\n",
    "\n",
    "        loss = tf.nn.softmax_cross_entropy_with_logits(labels=labels_one_hot, logits=logits)\n",
    "        \n",
    "        cost = tf.reduce_mean(loss) + l2_loss\n",
    "        \n",
    "        global_step = tf.Variable(0, trainable=False, name=\"global_step\")\n",
    "\n",
    "        learning_rate = tf.train.exponential_decay(starter_learning_rate, global_step, decay_steps, decay_rate)\n",
    "\n",
    "\n",
    "        optimizer = tf.train.AdamOptimizer(learning_rate).minimize(cost, global_step=global_step)\n",
    "        \n",
    "        norm = tf.sqrt(tf.reduce_sum(tf.square(embedding), 1, keep_dims=True))\n",
    "        normalized_embedding = embedding / norm"
   ]
  },
  {
   "cell_type": "code",
   "execution_count": 9,
   "metadata": {
    "collapsed": true
   },
   "outputs": [],
   "source": [
    "model_name = 'pos_drop'"
   ]
  },
  {
   "cell_type": "code",
   "execution_count": 16,
   "metadata": {},
   "outputs": [
    {
     "name": "stdout",
     "output_type": "stream",
     "text": [
      "mkdir: cannot create directory ‘checkpoints/pos_drop’: File exists\r\n"
     ]
    }
   ],
   "source": [
    "# If the checkpoints directory doesn't exist:\n",
    "!mkdir checkpoints/pos_drop"
   ]
  },
  {
   "cell_type": "code",
   "execution_count": 17,
   "metadata": {
    "collapsed": true
   },
   "outputs": [],
   "source": [
    "epochs = 10"
   ]
  },
  {
   "cell_type": "code",
   "execution_count": 18,
   "metadata": {
    "scrolled": true
   },
   "outputs": [
    {
     "name": "stdout",
     "output_type": "stream",
     "text": [
      "Epoch 1/10 Threshold: 0.08963244144365128 Length of Training words: 2444301\n",
      "Global Step: 100 Epoch 1/10 Iteration: 100 Avg. Training loss: 8.6313 0.0069 sec/batch\n",
      "Global Step: 200 Epoch 1/10 Iteration: 200 Avg. Training loss: 6.5499 0.0099 sec/batch\n",
      "Global Step: 300 Epoch 1/10 Iteration: 300 Avg. Training loss: 5.4089 0.0061 sec/batch\n",
      "Global Step: 400 Epoch 1/10 Iteration: 400 Avg. Training loss: 4.7583 0.0059 sec/batch\n",
      "Global Step: 500 Epoch 1/10 Iteration: 500 Avg. Training loss: 4.3893 0.0061 sec/batch\n",
      "Global Step: 600 Epoch 1/10 Iteration: 600 Avg. Training loss: 4.1336 0.0057 sec/batch\n",
      "Global Step: 700 Epoch 1/10 Iteration: 700 Avg. Training loss: 3.9593 0.0059 sec/batch\n",
      "Global Step: 800 Epoch 1/10 Iteration: 800 Avg. Training loss: 3.8324 0.0060 sec/batch\n",
      "Global Step: 900 Epoch 1/10 Iteration: 900 Avg. Training loss: 3.7095 0.0065 sec/batch\n",
      "Global Step: 1000 Epoch 1/10 Iteration: 1000 Avg. Training loss: 3.6205 0.0073 sec/batch\n",
      "Global Step: 1100 Epoch 1/10 Iteration: 1100 Avg. Training loss: 3.5300 0.0061 sec/batch\n",
      "Global Step: 1200 Epoch 1/10 Iteration: 1200 Avg. Training loss: 3.4757 0.0059 sec/batch\n",
      "Global Step: 1300 Epoch 1/10 Iteration: 1300 Avg. Training loss: 3.4326 0.0058 sec/batch\n",
      "Global Step: 1400 Epoch 1/10 Iteration: 1400 Avg. Training loss: 3.3947 0.0061 sec/batch\n",
      "Global Step: 1500 Epoch 1/10 Iteration: 1500 Avg. Training loss: 3.3428 0.0059 sec/batch\n",
      "Global Step: 1600 Epoch 1/10 Iteration: 1600 Avg. Training loss: 3.3102 0.0059 sec/batch\n",
      "Global Step: 1700 Epoch 1/10 Iteration: 1700 Avg. Training loss: 3.2700 0.0062 sec/batch\n",
      "Global Step: 1800 Epoch 1/10 Iteration: 1800 Avg. Training loss: 3.2733 0.0060 sec/batch\n",
      "Global Step: 1900 Epoch 1/10 Iteration: 1900 Avg. Training loss: 3.2398 0.0074 sec/batch\n",
      "Global Step: 2000 Epoch 1/10 Iteration: 2000 Avg. Training loss: 3.2309 0.0062 sec/batch\n",
      "Global Step: 2100 Epoch 1/10 Iteration: 2100 Avg. Training loss: 3.1864 0.0059 sec/batch\n",
      "Global Step: 2200 Epoch 1/10 Iteration: 2200 Avg. Training loss: 3.1617 0.0061 sec/batch\n",
      "Global Step: 2300 Epoch 1/10 Iteration: 2300 Avg. Training loss: 3.1653 0.0058 sec/batch\n",
      "Global Step: 2400 Epoch 1/10 Iteration: 2400 Avg. Training loss: 3.1467 0.0058 sec/batch\n",
      "Epoch 2/10 Threshold: 0.08867478925421657 Length of Training words: 2438335\n",
      "Global Step: 2500 Epoch 2/10 Iteration: 2500 Avg. Training loss: 3.1442 0.0038 sec/batch\n",
      "Global Step: 2600 Epoch 2/10 Iteration: 2600 Avg. Training loss: 3.1541 0.0062 sec/batch\n",
      "Global Step: 2700 Epoch 2/10 Iteration: 2700 Avg. Training loss: 3.1405 0.0063 sec/batch\n",
      "Global Step: 2800 Epoch 2/10 Iteration: 2800 Avg. Training loss: 3.1254 0.0061 sec/batch\n",
      "Global Step: 2900 Epoch 2/10 Iteration: 2900 Avg. Training loss: 3.1015 0.0060 sec/batch\n",
      "Global Step: 3000 Epoch 2/10 Iteration: 3000 Avg. Training loss: 3.0865 0.0067 sec/batch\n",
      "Global Step: 3100 Epoch 2/10 Iteration: 3100 Avg. Training loss: 3.1059 0.0061 sec/batch\n",
      "Global Step: 3200 Epoch 2/10 Iteration: 3200 Avg. Training loss: 3.0945 0.0056 sec/batch\n",
      "Global Step: 3300 Epoch 2/10 Iteration: 3300 Avg. Training loss: 3.0791 0.0055 sec/batch\n",
      "Global Step: 3400 Epoch 2/10 Iteration: 3400 Avg. Training loss: 3.1051 0.0057 sec/batch\n",
      "Global Step: 3500 Epoch 2/10 Iteration: 3500 Avg. Training loss: 3.0615 0.0062 sec/batch\n",
      "Global Step: 3600 Epoch 2/10 Iteration: 3600 Avg. Training loss: 3.0567 0.0063 sec/batch\n",
      "Global Step: 3700 Epoch 2/10 Iteration: 3700 Avg. Training loss: 3.0818 0.0085 sec/batch\n",
      "Global Step: 3800 Epoch 2/10 Iteration: 3800 Avg. Training loss: 3.0592 0.0060 sec/batch\n",
      "Global Step: 3900 Epoch 2/10 Iteration: 3900 Avg. Training loss: 3.0657 0.0064 sec/batch\n",
      "Global Step: 4000 Epoch 2/10 Iteration: 4000 Avg. Training loss: 3.0654 0.0057 sec/batch\n",
      "Global Step: 4100 Epoch 2/10 Iteration: 4100 Avg. Training loss: 3.0422 0.0058 sec/batch\n",
      "Global Step: 4200 Epoch 2/10 Iteration: 4200 Avg. Training loss: 3.0663 0.0058 sec/batch\n",
      "Global Step: 4300 Epoch 2/10 Iteration: 4300 Avg. Training loss: 3.0738 0.0069 sec/batch\n",
      "Global Step: 4400 Epoch 2/10 Iteration: 4400 Avg. Training loss: 3.0589 0.0060 sec/batch\n",
      "Global Step: 4500 Epoch 2/10 Iteration: 4500 Avg. Training loss: 3.0596 0.0056 sec/batch\n",
      "Global Step: 4600 Epoch 2/10 Iteration: 4600 Avg. Training loss: 3.0319 0.0071 sec/batch\n",
      "Global Step: 4700 Epoch 2/10 Iteration: 4700 Avg. Training loss: 3.0335 0.0070 sec/batch\n",
      "Global Step: 4800 Epoch 2/10 Iteration: 4800 Avg. Training loss: 3.0445 0.0077 sec/batch\n",
      "Epoch 3/10 Threshold: 0.08340231474364872 Length of Training words: 2406677\n",
      "Global Step: 4900 Epoch 3/10 Iteration: 4900 Avg. Training loss: 3.0490 0.0011 sec/batch\n",
      "Global Step: 5000 Epoch 3/10 Iteration: 5000 Avg. Training loss: 3.0670 0.0058 sec/batch\n",
      "Global Step: 5100 Epoch 3/10 Iteration: 5100 Avg. Training loss: 3.0803 0.0061 sec/batch\n",
      "Global Step: 5200 Epoch 3/10 Iteration: 5200 Avg. Training loss: 3.0588 0.0067 sec/batch\n",
      "Global Step: 5300 Epoch 3/10 Iteration: 5300 Avg. Training loss: 3.0447 0.0066 sec/batch\n",
      "Global Step: 5400 Epoch 3/10 Iteration: 5400 Avg. Training loss: 3.0478 0.0066 sec/batch\n",
      "Global Step: 5500 Epoch 3/10 Iteration: 5500 Avg. Training loss: 3.0492 0.0058 sec/batch\n",
      "Global Step: 5600 Epoch 3/10 Iteration: 5600 Avg. Training loss: 3.0509 0.0060 sec/batch\n",
      "Global Step: 5700 Epoch 3/10 Iteration: 5700 Avg. Training loss: 3.0573 0.0068 sec/batch\n",
      "Global Step: 5800 Epoch 3/10 Iteration: 5800 Avg. Training loss: 3.0627 0.0058 sec/batch\n",
      "Global Step: 5900 Epoch 3/10 Iteration: 5900 Avg. Training loss: 3.0372 0.0057 sec/batch\n",
      "Global Step: 6000 Epoch 3/10 Iteration: 6000 Avg. Training loss: 3.0400 0.0062 sec/batch\n",
      "Global Step: 6100 Epoch 3/10 Iteration: 6100 Avg. Training loss: 3.0534 0.0071 sec/batch\n",
      "Global Step: 6200 Epoch 3/10 Iteration: 6200 Avg. Training loss: 3.0485 0.0080 sec/batch\n",
      "Global Step: 6300 Epoch 3/10 Iteration: 6300 Avg. Training loss: 3.0454 0.0071 sec/batch\n",
      "Global Step: 6400 Epoch 3/10 Iteration: 6400 Avg. Training loss: 3.0541 0.0063 sec/batch\n",
      "Global Step: 6500 Epoch 3/10 Iteration: 6500 Avg. Training loss: 3.0461 0.0058 sec/batch\n",
      "Global Step: 6600 Epoch 3/10 Iteration: 6600 Avg. Training loss: 3.0478 0.0058 sec/batch\n",
      "Global Step: 6700 Epoch 3/10 Iteration: 6700 Avg. Training loss: 3.0705 0.0057 sec/batch\n",
      "Global Step: 6800 Epoch 3/10 Iteration: 6800 Avg. Training loss: 3.0499 0.0057 sec/batch\n",
      "Global Step: 6900 Epoch 3/10 Iteration: 6900 Avg. Training loss: 3.0533 0.0059 sec/batch\n",
      "Global Step: 7000 Epoch 3/10 Iteration: 7000 Avg. Training loss: 3.0338 0.0059 sec/batch\n",
      "Global Step: 7100 Epoch 3/10 Iteration: 7100 Avg. Training loss: 3.0356 0.0061 sec/batch\n",
      "Global Step: 7200 Epoch 3/10 Iteration: 7200 Avg. Training loss: 3.0401 0.0069 sec/batch\n",
      "Epoch 4/10 Threshold: 0.09281514123550766 Length of Training words: 2463281\n",
      "Global Step: 7300 Epoch 4/10 Iteration: 7300 Avg. Training loss: 3.0412 0.0007 sec/batch\n",
      "Global Step: 7400 Epoch 4/10 Iteration: 7400 Avg. Training loss: 3.0573 0.0058 sec/batch\n",
      "Global Step: 7500 Epoch 4/10 Iteration: 7500 Avg. Training loss: 3.0622 0.0057 sec/batch\n",
      "Global Step: 7600 Epoch 4/10 Iteration: 7600 Avg. Training loss: 3.0476 0.0058 sec/batch\n",
      "Global Step: 7700 Epoch 4/10 Iteration: 7700 Avg. Training loss: 3.0234 0.0066 sec/batch\n",
      "Global Step: 7800 Epoch 4/10 Iteration: 7800 Avg. Training loss: 3.0340 0.0059 sec/batch\n",
      "Global Step: 7900 Epoch 4/10 Iteration: 7900 Avg. Training loss: 3.0368 0.0060 sec/batch\n",
      "Global Step: 8000 Epoch 4/10 Iteration: 8000 Avg. Training loss: 3.0292 0.0055 sec/batch\n",
      "Global Step: 8100 Epoch 4/10 Iteration: 8100 Avg. Training loss: 3.0505 0.0074 sec/batch\n",
      "Global Step: 8200 Epoch 4/10 Iteration: 8200 Avg. Training loss: 3.0325 0.0060 sec/batch\n",
      "Global Step: 8300 Epoch 4/10 Iteration: 8300 Avg. Training loss: 3.0388 0.0057 sec/batch\n",
      "Global Step: 8400 Epoch 4/10 Iteration: 8400 Avg. Training loss: 3.0143 0.0062 sec/batch\n",
      "Global Step: 8500 Epoch 4/10 Iteration: 8500 Avg. Training loss: 3.0316 0.0066 sec/batch\n",
      "Global Step: 8600 Epoch 4/10 Iteration: 8600 Avg. Training loss: 3.0392 0.0066 sec/batch\n",
      "Global Step: 8700 Epoch 4/10 Iteration: 8700 Avg. Training loss: 3.0445 0.0067 sec/batch\n",
      "Global Step: 8800 Epoch 4/10 Iteration: 8800 Avg. Training loss: 3.0327 0.0059 sec/batch\n",
      "Global Step: 8900 Epoch 4/10 Iteration: 8900 Avg. Training loss: 3.0325 0.0060 sec/batch\n"
     ]
    },
    {
     "name": "stdout",
     "output_type": "stream",
     "text": [
      "Global Step: 9000 Epoch 4/10 Iteration: 9000 Avg. Training loss: 3.0189 0.0057 sec/batch\n",
      "Global Step: 9100 Epoch 4/10 Iteration: 9100 Avg. Training loss: 3.0563 0.0063 sec/batch\n",
      "Global Step: 9200 Epoch 4/10 Iteration: 9200 Avg. Training loss: 3.0402 0.0064 sec/batch\n",
      "Global Step: 9300 Epoch 4/10 Iteration: 9300 Avg. Training loss: 3.0499 0.0056 sec/batch\n",
      "Global Step: 9400 Epoch 4/10 Iteration: 9400 Avg. Training loss: 3.0254 0.0067 sec/batch\n",
      "Global Step: 9500 Epoch 4/10 Iteration: 9500 Avg. Training loss: 3.0165 0.0059 sec/batch\n",
      "Global Step: 9600 Epoch 4/10 Iteration: 9600 Avg. Training loss: 3.0312 0.0059 sec/batch\n",
      "Global Step: 9700 Epoch 4/10 Iteration: 9700 Avg. Training loss: 3.0315 0.0069 sec/batch\n",
      "Epoch 5/10 Threshold: 0.08393157959395993 Length of Training words: 2409987\n",
      "Global Step: 9800 Epoch 5/10 Iteration: 9800 Avg. Training loss: 3.0390 0.0032 sec/batch\n",
      "Global Step: 9900 Epoch 5/10 Iteration: 9900 Avg. Training loss: 3.0637 0.0058 sec/batch\n",
      "Global Step: 10000 Epoch 5/10 Iteration: 10000 Avg. Training loss: 3.0668 0.0057 sec/batch\n",
      "Global Step: 10100 Epoch 5/10 Iteration: 10100 Avg. Training loss: 3.0529 0.0062 sec/batch\n",
      "Global Step: 10200 Epoch 5/10 Iteration: 10200 Avg. Training loss: 3.0397 0.0059 sec/batch\n",
      "Global Step: 10300 Epoch 5/10 Iteration: 10300 Avg. Training loss: 3.0322 0.0060 sec/batch\n",
      "Global Step: 10400 Epoch 5/10 Iteration: 10400 Avg. Training loss: 3.0573 0.0058 sec/batch\n",
      "Global Step: 10500 Epoch 5/10 Iteration: 10500 Avg. Training loss: 3.0510 0.0059 sec/batch\n",
      "Global Step: 10600 Epoch 5/10 Iteration: 10600 Avg. Training loss: 3.0391 0.0057 sec/batch\n",
      "Global Step: 10700 Epoch 5/10 Iteration: 10700 Avg. Training loss: 3.0668 0.0067 sec/batch\n",
      "Global Step: 10800 Epoch 5/10 Iteration: 10800 Avg. Training loss: 3.0313 0.0080 sec/batch\n",
      "Global Step: 10900 Epoch 5/10 Iteration: 10900 Avg. Training loss: 3.0334 0.0061 sec/batch\n",
      "Global Step: 11000 Epoch 5/10 Iteration: 11000 Avg. Training loss: 3.0596 0.0074 sec/batch\n",
      "Global Step: 11100 Epoch 5/10 Iteration: 11100 Avg. Training loss: 3.0370 0.0062 sec/batch\n",
      "Global Step: 11200 Epoch 5/10 Iteration: 11200 Avg. Training loss: 3.0540 0.0064 sec/batch\n",
      "Global Step: 11300 Epoch 5/10 Iteration: 11300 Avg. Training loss: 3.0457 0.0060 sec/batch\n",
      "Global Step: 11400 Epoch 5/10 Iteration: 11400 Avg. Training loss: 3.0262 0.0060 sec/batch\n",
      "Global Step: 11500 Epoch 5/10 Iteration: 11500 Avg. Training loss: 3.0641 0.0073 sec/batch\n",
      "Global Step: 11600 Epoch 5/10 Iteration: 11600 Avg. Training loss: 3.0497 0.0063 sec/batch\n",
      "Global Step: 11700 Epoch 5/10 Iteration: 11700 Avg. Training loss: 3.0609 0.0071 sec/batch\n",
      "Global Step: 11800 Epoch 5/10 Iteration: 11800 Avg. Training loss: 3.0493 0.0071 sec/batch\n",
      "Global Step: 11900 Epoch 5/10 Iteration: 11900 Avg. Training loss: 3.0293 0.0070 sec/batch\n",
      "Global Step: 12000 Epoch 5/10 Iteration: 12000 Avg. Training loss: 3.0320 0.0061 sec/batch\n",
      "Global Step: 12100 Epoch 5/10 Iteration: 12100 Avg. Training loss: 3.0389 0.0060 sec/batch\n",
      "Epoch 6/10 Threshold: 0.08480557215265129 Length of Training words: 2415207\n",
      "Global Step: 12200 Epoch 6/10 Iteration: 12200 Avg. Training loss: 3.0510 0.0033 sec/batch\n",
      "Global Step: 12300 Epoch 6/10 Iteration: 12300 Avg. Training loss: 3.0601 0.0058 sec/batch\n",
      "Global Step: 12400 Epoch 6/10 Iteration: 12400 Avg. Training loss: 3.0706 0.0077 sec/batch\n",
      "Global Step: 12500 Epoch 6/10 Iteration: 12500 Avg. Training loss: 3.0531 0.0080 sec/batch\n",
      "Global Step: 12600 Epoch 6/10 Iteration: 12600 Avg. Training loss: 3.0442 0.0057 sec/batch\n",
      "Global Step: 12700 Epoch 6/10 Iteration: 12700 Avg. Training loss: 3.0337 0.0060 sec/batch\n",
      "Global Step: 12800 Epoch 6/10 Iteration: 12800 Avg. Training loss: 3.0448 0.0069 sec/batch\n",
      "Global Step: 12900 Epoch 6/10 Iteration: 12900 Avg. Training loss: 3.0457 0.0080 sec/batch\n",
      "Global Step: 13000 Epoch 6/10 Iteration: 13000 Avg. Training loss: 3.0425 0.0058 sec/batch\n",
      "Global Step: 13100 Epoch 6/10 Iteration: 13100 Avg. Training loss: 3.0653 0.0059 sec/batch\n",
      "Global Step: 13200 Epoch 6/10 Iteration: 13200 Avg. Training loss: 3.0342 0.0060 sec/batch\n",
      "Global Step: 13300 Epoch 6/10 Iteration: 13300 Avg. Training loss: 3.0263 0.0062 sec/batch\n",
      "Global Step: 13400 Epoch 6/10 Iteration: 13400 Avg. Training loss: 3.0559 0.0068 sec/batch\n",
      "Global Step: 13500 Epoch 6/10 Iteration: 13500 Avg. Training loss: 3.0395 0.0078 sec/batch\n",
      "Global Step: 13600 Epoch 6/10 Iteration: 13600 Avg. Training loss: 3.0476 0.0061 sec/batch\n",
      "Global Step: 13700 Epoch 6/10 Iteration: 13700 Avg. Training loss: 3.0504 0.0062 sec/batch\n",
      "Global Step: 13800 Epoch 6/10 Iteration: 13800 Avg. Training loss: 3.0271 0.0073 sec/batch\n",
      "Global Step: 13900 Epoch 6/10 Iteration: 13900 Avg. Training loss: 3.0554 0.0060 sec/batch\n",
      "Global Step: 14000 Epoch 6/10 Iteration: 14000 Avg. Training loss: 3.0596 0.0059 sec/batch\n",
      "Global Step: 14100 Epoch 6/10 Iteration: 14100 Avg. Training loss: 3.0523 0.0065 sec/batch\n",
      "Global Step: 14200 Epoch 6/10 Iteration: 14200 Avg. Training loss: 3.0504 0.0071 sec/batch\n",
      "Global Step: 14300 Epoch 6/10 Iteration: 14300 Avg. Training loss: 3.0255 0.0069 sec/batch\n",
      "Global Step: 14400 Epoch 6/10 Iteration: 14400 Avg. Training loss: 3.0303 0.0063 sec/batch\n",
      "Global Step: 14500 Epoch 6/10 Iteration: 14500 Avg. Training loss: 3.0337 0.0077 sec/batch\n",
      "Epoch 7/10 Threshold: 0.09997929234729756 Length of Training words: 2497651\n",
      "Global Step: 14600 Epoch 7/10 Iteration: 14600 Avg. Training loss: 3.0411 0.0029 sec/batch\n",
      "Global Step: 14700 Epoch 7/10 Iteration: 14700 Avg. Training loss: 3.0399 0.0067 sec/batch\n",
      "Global Step: 14800 Epoch 7/10 Iteration: 14800 Avg. Training loss: 3.0571 0.0060 sec/batch\n",
      "Global Step: 14900 Epoch 7/10 Iteration: 14900 Avg. Training loss: 3.0386 0.0066 sec/batch\n",
      "Global Step: 15000 Epoch 7/10 Iteration: 15000 Avg. Training loss: 3.0159 0.0062 sec/batch\n",
      "Global Step: 15100 Epoch 7/10 Iteration: 15100 Avg. Training loss: 3.0226 0.0069 sec/batch\n",
      "Global Step: 15200 Epoch 7/10 Iteration: 15200 Avg. Training loss: 3.0287 0.0082 sec/batch\n",
      "Global Step: 15300 Epoch 7/10 Iteration: 15300 Avg. Training loss: 3.0189 0.0065 sec/batch\n",
      "Global Step: 15400 Epoch 7/10 Iteration: 15400 Avg. Training loss: 3.0447 0.0060 sec/batch\n",
      "Global Step: 15500 Epoch 7/10 Iteration: 15500 Avg. Training loss: 3.0234 0.0061 sec/batch\n",
      "Global Step: 15600 Epoch 7/10 Iteration: 15600 Avg. Training loss: 3.0297 0.0059 sec/batch\n",
      "Global Step: 15700 Epoch 7/10 Iteration: 15700 Avg. Training loss: 3.0052 0.0063 sec/batch\n",
      "Global Step: 15800 Epoch 7/10 Iteration: 15800 Avg. Training loss: 3.0229 0.0060 sec/batch\n",
      "Global Step: 15900 Epoch 7/10 Iteration: 15900 Avg. Training loss: 3.0326 0.0059 sec/batch\n",
      "Global Step: 16000 Epoch 7/10 Iteration: 16000 Avg. Training loss: 3.0350 0.0065 sec/batch\n",
      "Global Step: 16100 Epoch 7/10 Iteration: 16100 Avg. Training loss: 3.0289 0.0075 sec/batch\n",
      "Global Step: 16200 Epoch 7/10 Iteration: 16200 Avg. Training loss: 3.0196 0.0059 sec/batch\n",
      "Global Step: 16300 Epoch 7/10 Iteration: 16300 Avg. Training loss: 3.0100 0.0063 sec/batch\n",
      "Global Step: 16400 Epoch 7/10 Iteration: 16400 Avg. Training loss: 3.0503 0.0068 sec/batch\n",
      "Global Step: 16500 Epoch 7/10 Iteration: 16500 Avg. Training loss: 3.0250 0.0060 sec/batch\n",
      "Global Step: 16600 Epoch 7/10 Iteration: 16600 Avg. Training loss: 3.0421 0.0062 sec/batch\n",
      "Global Step: 16700 Epoch 7/10 Iteration: 16700 Avg. Training loss: 3.0279 0.0062 sec/batch\n",
      "Global Step: 16800 Epoch 7/10 Iteration: 16800 Avg. Training loss: 3.0110 0.0061 sec/batch\n",
      "Global Step: 16900 Epoch 7/10 Iteration: 16900 Avg. Training loss: 3.0105 0.0064 sec/batch\n",
      "Global Step: 17000 Epoch 7/10 Iteration: 17000 Avg. Training loss: 3.0153 0.0071 sec/batch\n",
      "Epoch 8/10 Threshold: 0.0855824013202313 Length of Training words: 2419915\n",
      "Global Step: 17100 Epoch 8/10 Iteration: 17100 Avg. Training loss: 3.0335 0.0021 sec/batch\n",
      "Global Step: 17200 Epoch 8/10 Iteration: 17200 Avg. Training loss: 3.0548 0.0058 sec/batch\n",
      "Global Step: 17300 Epoch 8/10 Iteration: 17300 Avg. Training loss: 3.0780 0.0057 sec/batch\n",
      "Global Step: 17400 Epoch 8/10 Iteration: 17400 Avg. Training loss: 3.0524 0.0060 sec/batch\n",
      "Global Step: 17500 Epoch 8/10 Iteration: 17500 Avg. Training loss: 3.0367 0.0057 sec/batch\n",
      "Global Step: 17600 Epoch 8/10 Iteration: 17600 Avg. Training loss: 3.0375 0.0057 sec/batch\n"
     ]
    },
    {
     "name": "stdout",
     "output_type": "stream",
     "text": [
      "Global Step: 17700 Epoch 8/10 Iteration: 17700 Avg. Training loss: 3.0387 0.0058 sec/batch\n",
      "Global Step: 17800 Epoch 8/10 Iteration: 17800 Avg. Training loss: 3.0441 0.0057 sec/batch\n",
      "Global Step: 17900 Epoch 8/10 Iteration: 17900 Avg. Training loss: 3.0443 0.0082 sec/batch\n",
      "Global Step: 18000 Epoch 8/10 Iteration: 18000 Avg. Training loss: 3.0580 0.0070 sec/batch\n",
      "Global Step: 18100 Epoch 8/10 Iteration: 18100 Avg. Training loss: 3.0340 0.0059 sec/batch\n",
      "Global Step: 18200 Epoch 8/10 Iteration: 18200 Avg. Training loss: 3.0281 0.0058 sec/batch\n",
      "Global Step: 18300 Epoch 8/10 Iteration: 18300 Avg. Training loss: 3.0507 0.0060 sec/batch\n",
      "Global Step: 18400 Epoch 8/10 Iteration: 18400 Avg. Training loss: 3.0417 0.0059 sec/batch\n",
      "Global Step: 18500 Epoch 8/10 Iteration: 18500 Avg. Training loss: 3.0377 0.0057 sec/batch\n",
      "Global Step: 18600 Epoch 8/10 Iteration: 18600 Avg. Training loss: 3.0488 0.0062 sec/batch\n",
      "Global Step: 18700 Epoch 8/10 Iteration: 18700 Avg. Training loss: 3.0388 0.0058 sec/batch\n",
      "Global Step: 18800 Epoch 8/10 Iteration: 18800 Avg. Training loss: 3.0407 0.0080 sec/batch\n",
      "Global Step: 18900 Epoch 8/10 Iteration: 18900 Avg. Training loss: 3.0651 0.0059 sec/batch\n",
      "Global Step: 19000 Epoch 8/10 Iteration: 19000 Avg. Training loss: 3.0452 0.0058 sec/batch\n",
      "Global Step: 19100 Epoch 8/10 Iteration: 19100 Avg. Training loss: 3.0490 0.0065 sec/batch\n",
      "Global Step: 19200 Epoch 8/10 Iteration: 19200 Avg. Training loss: 3.0279 0.0062 sec/batch\n",
      "Global Step: 19300 Epoch 8/10 Iteration: 19300 Avg. Training loss: 3.0284 0.0058 sec/batch\n",
      "Global Step: 19400 Epoch 8/10 Iteration: 19400 Avg. Training loss: 3.0309 0.0056 sec/batch\n",
      "Epoch 9/10 Threshold: 0.08387603460750087 Length of Training words: 2409838\n",
      "Global Step: 19500 Epoch 9/10 Iteration: 19500 Avg. Training loss: 3.0376 0.0008 sec/batch\n",
      "Global Step: 19600 Epoch 9/10 Iteration: 19600 Avg. Training loss: 3.0713 0.0078 sec/batch\n",
      "Global Step: 19700 Epoch 9/10 Iteration: 19700 Avg. Training loss: 3.0724 0.0057 sec/batch\n",
      "Global Step: 19800 Epoch 9/10 Iteration: 19800 Avg. Training loss: 3.0545 0.0061 sec/batch\n",
      "Global Step: 19900 Epoch 9/10 Iteration: 19900 Avg. Training loss: 3.0361 0.0058 sec/batch\n",
      "Global Step: 20000 Epoch 9/10 Iteration: 20000 Avg. Training loss: 3.0430 0.0058 sec/batch\n",
      "Global Step: 20100 Epoch 9/10 Iteration: 20100 Avg. Training loss: 3.0422 0.0056 sec/batch\n",
      "Global Step: 20200 Epoch 9/10 Iteration: 20200 Avg. Training loss: 3.0405 0.0057 sec/batch\n",
      "Global Step: 20300 Epoch 9/10 Iteration: 20300 Avg. Training loss: 3.0575 0.0070 sec/batch\n",
      "Global Step: 20400 Epoch 9/10 Iteration: 20400 Avg. Training loss: 3.0503 0.0072 sec/batch\n",
      "Global Step: 20500 Epoch 9/10 Iteration: 20500 Avg. Training loss: 3.0349 0.0068 sec/batch\n",
      "Global Step: 20600 Epoch 9/10 Iteration: 20600 Avg. Training loss: 3.0404 0.0063 sec/batch\n",
      "Global Step: 20700 Epoch 9/10 Iteration: 20700 Avg. Training loss: 3.0512 0.0061 sec/batch\n",
      "Global Step: 20800 Epoch 9/10 Iteration: 20800 Avg. Training loss: 3.0398 0.0056 sec/batch\n",
      "Global Step: 20900 Epoch 9/10 Iteration: 20900 Avg. Training loss: 3.0457 0.0056 sec/batch\n",
      "Global Step: 21000 Epoch 9/10 Iteration: 21000 Avg. Training loss: 3.0424 0.0059 sec/batch\n",
      "Global Step: 21100 Epoch 9/10 Iteration: 21100 Avg. Training loss: 3.0450 0.0062 sec/batch\n",
      "Global Step: 21200 Epoch 9/10 Iteration: 21200 Avg. Training loss: 3.0426 0.0059 sec/batch\n",
      "Global Step: 21300 Epoch 9/10 Iteration: 21300 Avg. Training loss: 3.0633 0.0079 sec/batch\n",
      "Global Step: 21400 Epoch 9/10 Iteration: 21400 Avg. Training loss: 3.0472 0.0067 sec/batch\n",
      "Global Step: 21500 Epoch 9/10 Iteration: 21500 Avg. Training loss: 3.0544 0.0057 sec/batch\n",
      "Global Step: 21600 Epoch 9/10 Iteration: 21600 Avg. Training loss: 3.0262 0.0056 sec/batch\n",
      "Global Step: 21700 Epoch 9/10 Iteration: 21700 Avg. Training loss: 3.0285 0.0060 sec/batch\n",
      "Global Step: 21800 Epoch 9/10 Iteration: 21800 Avg. Training loss: 3.0357 0.0057 sec/batch\n",
      "Global Step: 21900 Epoch 9/10 Iteration: 21900 Avg. Training loss: 3.0437 0.0059 sec/batch\n",
      "Epoch 10/10 Threshold: 0.08460787256652003 Length of Training words: 2413986\n",
      "Global Step: 22000 Epoch 10/10 Iteration: 22000 Avg. Training loss: 3.0623 0.0068 sec/batch\n",
      "Global Step: 22100 Epoch 10/10 Iteration: 22100 Avg. Training loss: 3.0736 0.0078 sec/batch\n",
      "Global Step: 22200 Epoch 10/10 Iteration: 22200 Avg. Training loss: 3.0570 0.0071 sec/batch\n",
      "Global Step: 22300 Epoch 10/10 Iteration: 22300 Avg. Training loss: 3.0325 0.0059 sec/batch\n",
      "Global Step: 22400 Epoch 10/10 Iteration: 22400 Avg. Training loss: 3.0415 0.0055 sec/batch\n",
      "Global Step: 22500 Epoch 10/10 Iteration: 22500 Avg. Training loss: 3.0448 0.0061 sec/batch\n",
      "Global Step: 22600 Epoch 10/10 Iteration: 22600 Avg. Training loss: 3.0376 0.0062 sec/batch\n",
      "Global Step: 22700 Epoch 10/10 Iteration: 22700 Avg. Training loss: 3.0599 0.0057 sec/batch\n",
      "Global Step: 22800 Epoch 10/10 Iteration: 22800 Avg. Training loss: 3.0455 0.0057 sec/batch\n",
      "Global Step: 22900 Epoch 10/10 Iteration: 22900 Avg. Training loss: 3.0401 0.0061 sec/batch\n",
      "Global Step: 23000 Epoch 10/10 Iteration: 23000 Avg. Training loss: 3.0346 0.0061 sec/batch\n",
      "Global Step: 23100 Epoch 10/10 Iteration: 23100 Avg. Training loss: 3.0440 0.0057 sec/batch\n",
      "Global Step: 23200 Epoch 10/10 Iteration: 23200 Avg. Training loss: 3.0372 0.0064 sec/batch\n",
      "Global Step: 23300 Epoch 10/10 Iteration: 23300 Avg. Training loss: 3.0517 0.0072 sec/batch\n",
      "Global Step: 23400 Epoch 10/10 Iteration: 23400 Avg. Training loss: 3.0436 0.0073 sec/batch\n",
      "Global Step: 23500 Epoch 10/10 Iteration: 23500 Avg. Training loss: 3.0504 0.0063 sec/batch\n",
      "Global Step: 23600 Epoch 10/10 Iteration: 23600 Avg. Training loss: 3.0301 0.0056 sec/batch\n",
      "Global Step: 23700 Epoch 10/10 Iteration: 23700 Avg. Training loss: 3.0646 0.0057 sec/batch\n",
      "Global Step: 23800 Epoch 10/10 Iteration: 23800 Avg. Training loss: 3.0462 0.0065 sec/batch\n",
      "Global Step: 23900 Epoch 10/10 Iteration: 23900 Avg. Training loss: 3.0582 0.0069 sec/batch\n",
      "Global Step: 24000 Epoch 10/10 Iteration: 24000 Avg. Training loss: 3.0278 0.0059 sec/batch\n",
      "Global Step: 24100 Epoch 10/10 Iteration: 24100 Avg. Training loss: 3.0195 0.0057 sec/batch\n",
      "Global Step: 24200 Epoch 10/10 Iteration: 24200 Avg. Training loss: 3.0454 0.0074 sec/batch\n",
      "Global Step: 24300 Epoch 10/10 Iteration: 24300 Avg. Training loss: 3.0387 0.0060 sec/batch\n"
     ]
    }
   ],
   "source": [
    "with train_graph.as_default():\n",
    "    saver = tf.train.Saver()\n",
    "\n",
    "with tf.Session(graph=train_graph) as sess:\n",
    "    iteration = 1\n",
    "    batch_loss = 0\n",
    "    sess.run(tf.global_variables_initializer())\n",
    "    \n",
    "#     saver.restore(sess, tf.train.latest_checkpoint('checkpoints/pos'))\n",
    "#     embed_mat = sess.run(embedding)\n",
    "    \n",
    "    for e in range(1, epochs+1):\n",
    "        train_words, threshold = get_train_word()\n",
    "        print(\"Epoch {}/{}\".format(e, epochs), \"Threshold: {}\".format(threshold), \"Length of Training words: {}\".format(len(train_words)))\n",
    "        batches = get_batches(train_words, batch_size, window_size)\n",
    "        start = time.time()\n",
    "        for x, y in batches:\n",
    "            feed = {inputs: x,\n",
    "                    labels: np.array(y)}\n",
    "            global_steps, train_loss, _ = sess.run([global_step, cost, optimizer], feed_dict=feed)\n",
    "            \n",
    "            batch_loss += train_loss\n",
    "            \n",
    "            if iteration % 100== 0: \n",
    "                end = time.time()\n",
    "                print(\"Global Step: {}\".format(global_steps), \"Epoch {}/{}\".format(e, epochs),\n",
    "                      \"Iteration: {}\".format(iteration),\n",
    "                      \"Avg. Training loss: {:.4f}\".format(batch_loss/100),\n",
    "                      \"{:.4f} sec/batch\".format((end-start)/100))\n",
    "                batch_loss = 0\n",
    "                start = time.time()\n",
    "            \n",
    "            iteration += 1\n",
    "    save_path = saver.save(sess, \"checkpoints/\" + model_name + \"/pos.ckpt\")\n",
    "    embed_mat = sess.run(normalized_embedding)"
   ]
  },
  {
   "cell_type": "code",
   "execution_count": 10,
   "metadata": {},
   "outputs": [
    {
     "name": "stdout",
     "output_type": "stream",
     "text": [
      "INFO:tensorflow:Restoring parameters from checkpoints/pos_drop/pos.ckpt\n"
     ]
    }
   ],
   "source": [
    "with train_graph.as_default():\n",
    "    saver = tf.train.Saver()\n",
    "\n",
    "with tf.Session(graph=train_graph) as sess:\n",
    "    saver.restore(sess, tf.train.latest_checkpoint('checkpoints/' + model_name))\n",
    "    embed_mat = sess.run(embedding)"
   ]
  },
  {
   "cell_type": "code",
   "execution_count": null,
   "metadata": {
    "collapsed": true
   },
   "outputs": [],
   "source": []
  },
  {
   "cell_type": "code",
   "execution_count": 12,
   "metadata": {},
   "outputs": [
    {
     "data": {
      "image/png": "[encoded data removed]",
      "text/plain": [
       "<matplotlib.figure.Figure at 0x7f9ef002d8d0>"
      ]
     },
     "metadata": {
      "image/png": {
       "height": 902,
       "width": 943
      }
     },
     "output_type": "display_data"
    }
   ],
   "source": [
    "%matplotlib inline\n",
    "%config InlineBackend.figure_format = 'retina'\n",
    "\n",
    "import matplotlib.pyplot as plt\n",
    "from sklearn.manifold import TSNE\n",
    "\n",
    "viz_words = n_vocab\n",
    "tsne = TSNE()\n",
    "embed_tsne = tsne.fit_transform(embed_mat[:viz_words, :])\n",
    "\n",
    "fig, ax = plt.subplots(figsize=(16, 16))\n",
    "for idx in range(viz_words):\n",
    "    plt.scatter(*embed_tsne[idx, :], color='blue')\n",
    "    plt.annotate(int_to_vocab[idx], (embed_tsne[idx, 0], embed_tsne[idx, 1]), alpha=1, xytext=(embed_tsne[idx, 0]+1.5, embed_tsne[idx, 1]+1.5), fontsize=12)"
   ]
  },
  {
   "cell_type": "code",
   "execution_count": null,
   "metadata": {
    "collapsed": true
   },
   "outputs": [],
   "source": []
  }
 ],
 "metadata": {
  "kernelspec": {
   "display_name": "Python 3",
   "language": "python",
   "name": "python3"
  },
  "language_info": {
   "codemirror_mode": {
    "name": "ipython",
    "version": 3
   },
   "file_extension": ".py",
   "mimetype": "text/x-python",
   "name": "python",
   "nbconvert_exporter": "python",
   "pygments_lexer": "ipython3",
   "version": "3.5.4"
  }
 },
 "nbformat": 4,
 "nbformat_minor": 2
}

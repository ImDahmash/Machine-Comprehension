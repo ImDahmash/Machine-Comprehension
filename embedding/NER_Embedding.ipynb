{
 "cells": [
  {
   "cell_type": "code",
   "execution_count": 1,
   "metadata": {
    "collapsed": true
   },
   "outputs": [],
   "source": [
    "import time\n",
    "\n",
    "import numpy as np\n",
    "import tensorflow as tf\n",
    "\n",
    "import re\n",
    "from collections import Counter\n",
    "from time import sleep\n",
    "import json\n",
    "\n",
    "import random"
   ]
  },
  {
   "cell_type": "code",
   "execution_count": 2,
   "metadata": {
    "scrolled": true
   },
   "outputs": [
    {
     "data": {
      "text/plain": [
       "[('O', 275616), ('ORGANIZATION', 8190), ('PERSON', 7738), ('LOCATION', 7501)]"
      ]
     },
     "execution_count": 2,
     "metadata": {},
     "output_type": "execute_result"
    }
   ],
   "source": [
    "with open('ner_test.json') as json_data:\n",
    "    d = json.load(json_data)\n",
    "\n",
    "text=[]\n",
    "l=0\n",
    "\n",
    "for i in d:\n",
    "    for j in i:\n",
    "        for k in j:\n",
    "            text.append(k)\n",
    "\n",
    "tt = []\n",
    "for i in range(len(text)):\n",
    "    if(text[i]!=''):\n",
    "        tt.append(text[i])\n",
    "\n",
    "text = tt\n",
    "\n",
    "word_counts = Counter(text)\n",
    "\n",
    "word_counts.most_common()"
   ]
  },
  {
   "cell_type": "code",
   "execution_count": 3,
   "metadata": {
    "collapsed": true
   },
   "outputs": [],
   "source": [
    "def create_lookup_tables(words):\n",
    "    \"\"\"\n",
    "    Create lookup tables for vocabulary\n",
    "    :param words: Input list of words\n",
    "    :return: A tuple of dicts.  The first dict....\n",
    "    \"\"\"\n",
    "    word_counts = Counter(words)\n",
    "    sorted_vocab = sorted(word_counts, key=word_counts.get, reverse=True)\n",
    "    int_to_vocab = {ii: word for ii, word in enumerate(sorted_vocab)}\n",
    "    vocab_to_int = {word: ii for ii, word in int_to_vocab.items()}\n",
    "\n",
    "    return vocab_to_int, int_to_vocab\n",
    "\n",
    "def get_target(words, idx, window_size=5):\n",
    "    ''' Get a list of words in a window around an index. '''\n",
    "    \n",
    "    R = np.random.randint(1, window_size+1)\n",
    "    start = idx - R if (idx - R) > 0 else 0\n",
    "    stop = idx + R\n",
    "    target_words = set(words[start:idx] + words[idx+1:stop+1])\n",
    "    \n",
    "    return list(target_words)\n",
    "\n",
    "\n",
    "def get_batches(words, batch_size, window_size=5):\n",
    "    ''' Create a generator of word batches as a tuple (inputs, targets) '''\n",
    "    \n",
    "    n_batches = len(words)//batch_size\n",
    "    \n",
    "    # only full batches\n",
    "    words = words[:n_batches*batch_size]\n",
    "    for idx in range(0, len(words), batch_size):\n",
    "        x, y = [], []\n",
    "        batch = words[idx:idx+batch_size]\n",
    "        for ii in range(len(batch)):\n",
    "            batch_x = batch[ii]\n",
    "            batch_y = get_target(batch, ii, window_size)\n",
    "            y.extend(batch_y)\n",
    "            x.extend([batch_x]*len(batch_y))\n",
    "        yield x, y"
   ]
  },
  {
   "cell_type": "code",
   "execution_count": 4,
   "metadata": {},
   "outputs": [
    {
     "name": "stdout",
     "output_type": "stream",
     "text": [
      "Total words: 299045\n",
      "Unique words: 4\n"
     ]
    },
    {
     "data": {
      "text/plain": [
       "[(0, 90810), (1, 8190), (2, 7738), (3, 7501)]"
      ]
     },
     "execution_count": 4,
     "metadata": {},
     "output_type": "execute_result"
    }
   ],
   "source": [
    "words = text\n",
    "\n",
    "print(\"Total words: {}\".format(len(words)))\n",
    "print(\"Unique words: {}\".format(len(set(words))))\n",
    "\n",
    "# vocab_to_int, int_to_vocab = utils.create_lookup_tables(words)\n",
    "vocab_to_int, int_to_vocab = create_lookup_tables(words)\n",
    "int_words = [vocab_to_int[word] for word in words]\n",
    "\n",
    "## Your code here\n",
    "from collections import Counter\n",
    "import random\n",
    "\n",
    "threshold = 1e-1\n",
    "word_counts = Counter(int_words)\n",
    "total_count = len(int_words)\n",
    "freqs = {word: count/total_count for word, count in word_counts.items()}\n",
    "p_drop = {word: 1 - np.sqrt(threshold/freqs[word]) for word in word_counts}\n",
    "train_words = [word for word in int_words if random.random() < (1 - p_drop[word])]\n",
    "\n",
    "word_counts = Counter(train_words)\n",
    "\n",
    "word_counts.most_common()"
   ]
  },
  {
   "cell_type": "code",
   "execution_count": 5,
   "metadata": {
    "collapsed": true
   },
   "outputs": [],
   "source": [
    "batch_size = 1000\n",
    "window_size = 2\n",
    "n_vocab = len(int_to_vocab)\n",
    "n_embedding =  25"
   ]
  },
  {
   "cell_type": "code",
   "execution_count": 12,
   "metadata": {
    "collapsed": true
   },
   "outputs": [],
   "source": [
    "with tf.device('/device:GPU:1'):\n",
    "\n",
    "    train_graph = tf.Graph()\n",
    "    with train_graph.as_default():\n",
    "        inputs = tf.placeholder(tf.int32, [None], name='inputs')\n",
    "    #     labels = tf.placeholder(tf.int32, [None, None], name='labels')\n",
    "        labels = tf.placeholder(tf.int32, [None, None], name='labels')\n",
    "        \n",
    "        embedding = tf.Variable(tf.random_uniform((n_vocab, n_embedding), -1, 1))\n",
    "        embed = tf.nn.embedding_lookup(embedding, inputs) # use tf.nn.embedding_lookup to get the hidden layer output\n",
    "        \n",
    "        softmax_w = tf.Variable(tf.truncated_normal((n_vocab, n_embedding))) # create softmax weight matrix here\n",
    "        softmax_b = tf.Variable(tf.zeros(n_vocab), name=\"softmax_bias\") # create softmax biases here\n",
    "        \n",
    "        logits = tf.matmul(embed, tf.transpose(softmax_w)) + softmax_b\n",
    "        labels_one_hot = tf.one_hot(labels, n_vocab)\n",
    "\n",
    "        loss = tf.nn.softmax_cross_entropy_with_logits(labels=labels_one_hot, logits=logits)\n",
    "        cost = tf.reduce_mean(loss)\n",
    "        \n",
    "        global_step = tf.Variable(0, trainable=False, name=\"global_step\")\n",
    "\n",
    "        optimizer = tf.train.AdamOptimizer().minimize(cost, global_step=global_step)\n",
    "        \n",
    "         ## From Thushan Ganegedara's implementation\n",
    "        valid_size = 3 # Random set of words to evaluate similarity on.\n",
    "        valid_window = n_vocab\n",
    "        # pick 8 samples from (0,100) and (1000,1100) each ranges. lower id implies more frequent \n",
    "        valid_examples = np.array(random.sample(range(valid_window), valid_size))\n",
    "#         valid_examples = np.append(valid_examples, \n",
    "#                                    random.sample(range(1000,1000+valid_window), valid_size//2))\n",
    "\n",
    "        valid_dataset = tf.constant(valid_examples, dtype=tf.int32)\n",
    "\n",
    "        # We use the cosine distance:\n",
    "        norm = tf.sqrt(tf.reduce_sum(tf.square(embedding), 1, keep_dims=True))\n",
    "        normalized_embedding = embedding / norm\n",
    "        valid_embedding = tf.nn.embedding_lookup(normalized_embedding, valid_dataset)\n",
    "        similarity = tf.matmul(valid_embedding, tf.transpose(normalized_embedding))"
   ]
  },
  {
   "cell_type": "code",
   "execution_count": 13,
   "metadata": {},
   "outputs": [
    {
     "name": "stdout",
     "output_type": "stream",
     "text": [
      "mkdir: cannot create directory ‘checkpoints/ner’: File exists\r\n"
     ]
    }
   ],
   "source": [
    "# If the checkpoints directory doesn't exist:\n",
    "!mkdir checkpoints/ner"
   ]
  },
  {
   "cell_type": "code",
   "execution_count": 18,
   "metadata": {
    "collapsed": true
   },
   "outputs": [],
   "source": [
    "epochs = 100"
   ]
  },
  {
   "cell_type": "code",
   "execution_count": 19,
   "metadata": {
    "scrolled": true
   },
   "outputs": [
    {
     "name": "stdout",
     "output_type": "stream",
     "text": [
      "INFO:tensorflow:Restoring parameters from checkpoints/ner/ner.ckpt\n",
      "Global Step: 5800 Epoch 1/100 Iteration: 100 Avg. Training loss: 0.8470 0.0131 sec/batch\n",
      "Global Step: 5900 Epoch 2/100 Iteration: 200 Avg. Training loss: 0.8536 0.0111 sec/batch\n",
      "Global Step: 6000 Epoch 3/100 Iteration: 300 Avg. Training loss: 0.8483 0.0094 sec/batch\n",
      "Global Step: 6100 Epoch 4/100 Iteration: 400 Avg. Training loss: 0.8519 0.0074 sec/batch\n",
      "Global Step: 6200 Epoch 5/100 Iteration: 500 Avg. Training loss: 0.8387 0.0053 sec/batch\n",
      "Global Step: 6300 Epoch 6/100 Iteration: 600 Avg. Training loss: 0.8556 0.0050 sec/batch\n",
      "Global Step: 6400 Epoch 7/100 Iteration: 700 Avg. Training loss: 0.8463 0.0022 sec/batch\n",
      "Global Step: 6500 Epoch 8/100 Iteration: 800 Avg. Training loss: 0.8399 0.0004 sec/batch\n",
      "Global Step: 6600 Epoch 8/100 Iteration: 900 Avg. Training loss: 0.8446 0.0149 sec/batch\n",
      "Global Step: 6700 Epoch 9/100 Iteration: 1000 Avg. Training loss: 0.8555 0.0120 sec/batch\n",
      "Global Step: 6800 Epoch 10/100 Iteration: 1100 Avg. Training loss: 0.8421 0.0105 sec/batch\n",
      "Global Step: 6900 Epoch 11/100 Iteration: 1200 Avg. Training loss: 0.8576 0.0089 sec/batch\n",
      "Global Step: 7000 Epoch 12/100 Iteration: 1300 Avg. Training loss: 0.8354 0.0059 sec/batch\n",
      "Global Step: 7100 Epoch 13/100 Iteration: 1400 Avg. Training loss: 0.8505 0.0042 sec/batch\n",
      "Global Step: 7200 Epoch 14/100 Iteration: 1500 Avg. Training loss: 0.8507 0.0026 sec/batch\n",
      "Global Step: 7300 Epoch 15/100 Iteration: 1600 Avg. Training loss: 0.8441 0.0006 sec/batch\n",
      "Global Step: 7400 Epoch 15/100 Iteration: 1700 Avg. Training loss: 0.8424 0.0138 sec/batch\n",
      "Global Step: 7500 Epoch 16/100 Iteration: 1800 Avg. Training loss: 0.8585 0.0131 sec/batch\n",
      "Global Step: 7600 Epoch 17/100 Iteration: 1900 Avg. Training loss: 0.8417 0.0107 sec/batch\n",
      "Global Step: 7700 Epoch 18/100 Iteration: 2000 Avg. Training loss: 0.8539 0.0084 sec/batch\n",
      "Global Step: 7800 Epoch 19/100 Iteration: 2100 Avg. Training loss: 0.8286 0.0065 sec/batch\n",
      "Global Step: 7900 Epoch 20/100 Iteration: 2200 Avg. Training loss: 0.8541 0.0053 sec/batch\n",
      "Global Step: 8000 Epoch 21/100 Iteration: 2300 Avg. Training loss: 0.8506 0.0025 sec/batch\n",
      "Global Step: 8100 Epoch 22/100 Iteration: 2400 Avg. Training loss: 0.8473 0.0008 sec/batch\n",
      "Global Step: 8200 Epoch 22/100 Iteration: 2500 Avg. Training loss: 0.8398 0.0135 sec/batch\n",
      "Global Step: 8300 Epoch 23/100 Iteration: 2600 Avg. Training loss: 0.8596 0.0128 sec/batch\n",
      "Global Step: 8400 Epoch 24/100 Iteration: 2700 Avg. Training loss: 0.8400 0.0118 sec/batch\n",
      "Global Step: 8500 Epoch 25/100 Iteration: 2800 Avg. Training loss: 0.8610 0.0096 sec/batch\n",
      "Global Step: 8600 Epoch 26/100 Iteration: 2900 Avg. Training loss: 0.8252 0.0072 sec/batch\n",
      "Global Step: 8700 Epoch 27/100 Iteration: 3000 Avg. Training loss: 0.8545 0.0047 sec/batch\n",
      "Global Step: 8800 Epoch 28/100 Iteration: 3100 Avg. Training loss: 0.8511 0.0032 sec/batch\n",
      "Global Step: 8900 Epoch 29/100 Iteration: 3200 Avg. Training loss: 0.8488 0.0014 sec/batch\n",
      "Global Step: 9000 Epoch 29/100 Iteration: 3300 Avg. Training loss: 0.8350 0.0143 sec/batch\n",
      "Global Step: 9100 Epoch 30/100 Iteration: 3400 Avg. Training loss: 0.8545 0.0141 sec/batch\n",
      "Global Step: 9200 Epoch 31/100 Iteration: 3500 Avg. Training loss: 0.8411 0.0110 sec/batch\n",
      "Global Step: 9300 Epoch 32/100 Iteration: 3600 Avg. Training loss: 0.8686 0.0092 sec/batch\n",
      "Global Step: 9400 Epoch 33/100 Iteration: 3700 Avg. Training loss: 0.8263 0.0080 sec/batch\n",
      "Global Step: 9500 Epoch 34/100 Iteration: 3800 Avg. Training loss: 0.8521 0.0020 sec/batch\n",
      "Global Step: 9600 Epoch 35/100 Iteration: 3900 Avg. Training loss: 0.8525 0.0030 sec/batch\n",
      "Global Step: 9700 Epoch 36/100 Iteration: 4000 Avg. Training loss: 0.8504 0.0016 sec/batch\n",
      "Global Step: 9800 Epoch 36/100 Iteration: 4100 Avg. Training loss: 0.8298 0.0139 sec/batch\n",
      "Global Step: 9900 Epoch 37/100 Iteration: 4200 Avg. Training loss: 0.8440 0.0129 sec/batch\n",
      "Global Step: 10000 Epoch 38/100 Iteration: 4300 Avg. Training loss: 0.8502 0.0115 sec/batch\n",
      "Global Step: 10100 Epoch 39/100 Iteration: 4400 Avg. Training loss: 0.8657 0.0102 sec/batch\n",
      "Global Step: 10200 Epoch 40/100 Iteration: 4500 Avg. Training loss: 0.8307 0.0073 sec/batch\n",
      "Global Step: 10300 Epoch 41/100 Iteration: 4600 Avg. Training loss: 0.8515 0.0060 sec/batch\n",
      "Global Step: 10400 Epoch 42/100 Iteration: 4700 Avg. Training loss: 0.8573 0.0036 sec/batch\n",
      "Global Step: 10500 Epoch 43/100 Iteration: 4800 Avg. Training loss: 0.8474 0.0015 sec/batch\n",
      "Global Step: 10600 Epoch 43/100 Iteration: 4900 Avg. Training loss: 0.8364 0.0136 sec/batch\n",
      "Global Step: 10700 Epoch 44/100 Iteration: 5000 Avg. Training loss: 0.8340 0.0142 sec/batch\n",
      "Global Step: 10800 Epoch 45/100 Iteration: 5100 Avg. Training loss: 0.8543 0.0115 sec/batch\n",
      "Global Step: 10900 Epoch 46/100 Iteration: 5200 Avg. Training loss: 0.8562 0.0105 sec/batch\n",
      "Global Step: 11000 Epoch 47/100 Iteration: 5300 Avg. Training loss: 0.8409 0.0074 sec/batch\n",
      "Global Step: 11100 Epoch 48/100 Iteration: 5400 Avg. Training loss: 0.8465 0.0063 sec/batch\n",
      "Global Step: 11200 Epoch 49/100 Iteration: 5500 Avg. Training loss: 0.8581 0.0043 sec/batch\n",
      "Global Step: 11300 Epoch 50/100 Iteration: 5600 Avg. Training loss: 0.8428 0.0018 sec/batch\n",
      "Global Step: 11400 Epoch 50/100 Iteration: 5700 Avg. Training loss: 0.8333 0.0138 sec/batch\n",
      "Global Step: 11500 Epoch 51/100 Iteration: 5800 Avg. Training loss: 0.8468 0.0146 sec/batch\n",
      "Global Step: 11600 Epoch 52/100 Iteration: 5900 Avg. Training loss: 0.8525 0.0127 sec/batch\n",
      "Global Step: 11700 Epoch 53/100 Iteration: 6000 Avg. Training loss: 0.8449 0.0098 sec/batch\n",
      "Global Step: 11800 Epoch 54/100 Iteration: 6100 Avg. Training loss: 0.8503 0.0089 sec/batch\n",
      "Global Step: 11900 Epoch 55/100 Iteration: 6200 Avg. Training loss: 0.8394 0.0056 sec/batch\n",
      "Global Step: 12000 Epoch 56/100 Iteration: 6300 Avg. Training loss: 0.8534 0.0026 sec/batch\n",
      "Global Step: 12100 Epoch 57/100 Iteration: 6400 Avg. Training loss: 0.8456 0.0022 sec/batch\n",
      "Global Step: 12200 Epoch 58/100 Iteration: 6500 Avg. Training loss: 0.8399 0.0002 sec/batch\n",
      "Global Step: 12300 Epoch 58/100 Iteration: 6600 Avg. Training loss: 0.8445 0.0133 sec/batch\n",
      "Global Step: 12400 Epoch 59/100 Iteration: 6700 Avg. Training loss: 0.8566 0.0128 sec/batch\n",
      "Global Step: 12500 Epoch 60/100 Iteration: 6800 Avg. Training loss: 0.8425 0.0096 sec/batch\n",
      "Global Step: 12600 Epoch 61/100 Iteration: 6900 Avg. Training loss: 0.8562 0.0085 sec/batch\n",
      "Global Step: 12700 Epoch 62/100 Iteration: 7000 Avg. Training loss: 0.8357 0.0069 sec/batch\n",
      "Global Step: 12800 Epoch 63/100 Iteration: 7100 Avg. Training loss: 0.8509 0.0042 sec/batch\n",
      "Global Step: 12900 Epoch 64/100 Iteration: 7200 Avg. Training loss: 0.8501 0.0028 sec/batch\n",
      "Global Step: 13000 Epoch 65/100 Iteration: 7300 Avg. Training loss: 0.8439 0.0007 sec/batch\n",
      "Global Step: 13100 Epoch 65/100 Iteration: 7400 Avg. Training loss: 0.8411 0.0149 sec/batch\n",
      "Global Step: 13200 Epoch 66/100 Iteration: 7500 Avg. Training loss: 0.8583 0.0124 sec/batch\n",
      "Global Step: 13300 Epoch 67/100 Iteration: 7600 Avg. Training loss: 0.8422 0.0109 sec/batch\n",
      "Global Step: 13400 Epoch 68/100 Iteration: 7700 Avg. Training loss: 0.8573 0.0086 sec/batch\n",
      "Global Step: 13500 Epoch 69/100 Iteration: 7800 Avg. Training loss: 0.8293 0.0066 sec/batch\n",
      "Global Step: 13600 Epoch 70/100 Iteration: 7900 Avg. Training loss: 0.8538 0.0054 sec/batch\n",
      "Global Step: 13700 Epoch 71/100 Iteration: 8000 Avg. Training loss: 0.8497 0.0027 sec/batch\n",
      "Global Step: 13800 Epoch 72/100 Iteration: 8100 Avg. Training loss: 0.8465 0.0010 sec/batch\n",
      "Global Step: 13900 Epoch 72/100 Iteration: 8200 Avg. Training loss: 0.8396 0.0149 sec/batch\n",
      "Global Step: 14000 Epoch 73/100 Iteration: 8300 Avg. Training loss: 0.8583 0.0122 sec/batch\n",
      "Global Step: 14100 Epoch 74/100 Iteration: 8400 Avg. Training loss: 0.8413 0.0107 sec/batch\n",
      "Global Step: 14200 Epoch 75/100 Iteration: 8500 Avg. Training loss: 0.8634 0.0100 sec/batch\n",
      "Global Step: 14300 Epoch 76/100 Iteration: 8600 Avg. Training loss: 0.8264 0.0072 sec/batch\n",
      "Global Step: 14400 Epoch 77/100 Iteration: 8700 Avg. Training loss: 0.8535 0.0051 sec/batch\n",
      "Global Step: 14500 Epoch 78/100 Iteration: 8800 Avg. Training loss: 0.8515 0.0031 sec/batch\n",
      "Global Step: 14600 Epoch 79/100 Iteration: 8900 Avg. Training loss: 0.8500 0.0012 sec/batch\n"
     ]
    },
    {
     "name": "stdout",
     "output_type": "stream",
     "text": [
      "Global Step: 14700 Epoch 79/100 Iteration: 9000 Avg. Training loss: 0.8348 0.0144 sec/batch\n",
      "Global Step: 14800 Epoch 80/100 Iteration: 9100 Avg. Training loss: 0.8545 0.0137 sec/batch\n",
      "Global Step: 14900 Epoch 81/100 Iteration: 9200 Avg. Training loss: 0.8406 0.0110 sec/batch\n",
      "Global Step: 15000 Epoch 82/100 Iteration: 9300 Avg. Training loss: 0.8697 0.0096 sec/batch\n",
      "Global Step: 15100 Epoch 83/100 Iteration: 9400 Avg. Training loss: 0.8263 0.0081 sec/batch\n",
      "Global Step: 15200 Epoch 84/100 Iteration: 9500 Avg. Training loss: 0.8509 0.0053 sec/batch\n",
      "Global Step: 15300 Epoch 85/100 Iteration: 9600 Avg. Training loss: 0.8525 0.0036 sec/batch\n",
      "Global Step: 15400 Epoch 86/100 Iteration: 9700 Avg. Training loss: 0.8512 0.0015 sec/batch\n",
      "Global Step: 15500 Epoch 86/100 Iteration: 9800 Avg. Training loss: 0.8307 0.0138 sec/batch\n",
      "Global Step: 15600 Epoch 87/100 Iteration: 9900 Avg. Training loss: 0.8433 0.0137 sec/batch\n",
      "Global Step: 15700 Epoch 88/100 Iteration: 10000 Avg. Training loss: 0.8494 0.0124 sec/batch\n",
      "Global Step: 15800 Epoch 89/100 Iteration: 10100 Avg. Training loss: 0.8670 0.0085 sec/batch\n",
      "Global Step: 15900 Epoch 90/100 Iteration: 10200 Avg. Training loss: 0.8304 0.0078 sec/batch\n",
      "Global Step: 16000 Epoch 91/100 Iteration: 10300 Avg. Training loss: 0.8512 0.0054 sec/batch\n",
      "Global Step: 16100 Epoch 92/100 Iteration: 10400 Avg. Training loss: 0.8556 0.0034 sec/batch\n",
      "Global Step: 16200 Epoch 93/100 Iteration: 10500 Avg. Training loss: 0.8482 0.0018 sec/batch\n",
      "Global Step: 16300 Epoch 93/100 Iteration: 10600 Avg. Training loss: 0.8356 0.0151 sec/batch\n",
      "Global Step: 16400 Epoch 94/100 Iteration: 10700 Avg. Training loss: 0.8362 0.0141 sec/batch\n",
      "Global Step: 16500 Epoch 95/100 Iteration: 10800 Avg. Training loss: 0.8550 0.0124 sec/batch\n",
      "Global Step: 16600 Epoch 96/100 Iteration: 10900 Avg. Training loss: 0.8562 0.0102 sec/batch\n",
      "Global Step: 16700 Epoch 97/100 Iteration: 11000 Avg. Training loss: 0.8411 0.0081 sec/batch\n",
      "Global Step: 16800 Epoch 98/100 Iteration: 11100 Avg. Training loss: 0.8467 0.0059 sec/batch\n",
      "Global Step: 16900 Epoch 99/100 Iteration: 11200 Avg. Training loss: 0.8567 0.0038 sec/batch\n",
      "Global Step: 17000 Epoch 100/100 Iteration: 11300 Avg. Training loss: 0.8433 0.0019 sec/batch\n",
      "Global Step: 17100 Epoch 100/100 Iteration: 11400 Avg. Training loss: 0.8322 0.0146 sec/batch\n"
     ]
    }
   ],
   "source": [
    "with train_graph.as_default():\n",
    "    saver = tf.train.Saver()\n",
    "\n",
    "with tf.Session(graph=train_graph) as sess:\n",
    "    iteration = 1\n",
    "    loss = 0\n",
    "    sess.run(tf.global_variables_initializer())\n",
    "    \n",
    "    saver.restore(sess, tf.train.latest_checkpoint('checkpoints/ner'))\n",
    "    embed_mat = sess.run(embedding)\n",
    "    \n",
    "    for e in range(1, epochs+1):\n",
    "        batches = get_batches(train_words, batch_size, window_size)\n",
    "        start = time.time()\n",
    "        for x, y in batches:\n",
    "            \n",
    "            feed = {inputs: x,\n",
    "                    labels: np.array(y)[:, None]}\n",
    "            global_steps, train_loss, _ = sess.run([global_step, cost, optimizer], feed_dict=feed)\n",
    "            \n",
    "            loss += train_loss\n",
    "            \n",
    "            if iteration % 100== 0: \n",
    "                end = time.time()\n",
    "                print(\"Global Step: {}\".format(global_steps), \"Epoch {}/{}\".format(e, epochs),\n",
    "                      \"Iteration: {}\".format(iteration),\n",
    "                      \"Avg. Training loss: {:.4f}\".format(loss/100),\n",
    "                      \"{:.4f} sec/batch\".format((end-start)/100))\n",
    "                loss = 0\n",
    "                start = time.time()\n",
    "                        \n",
    "            iteration += 1\n",
    "    save_path = saver.save(sess, \"checkpoints/ner/ner.ckpt\")\n",
    "    embed_mat = sess.run(normalized_embedding)"
   ]
  },
  {
   "cell_type": "code",
   "execution_count": 352,
   "metadata": {},
   "outputs": [
    {
     "name": "stdout",
     "output_type": "stream",
     "text": [
      "INFO:tensorflow:Restoring parameters from checkpoints/text8.ckpt\n"
     ]
    }
   ],
   "source": [
    "with train_graph.as_default():\n",
    "    saver = tf.train.Saver()\n",
    "\n",
    "with tf.Session(graph=train_graph) as sess:\n",
    "    saver.restore(sess, tf.train.latest_checkpoint('checkpoints/ner'))\n",
    "    embed_mat = sess.run(embedding)"
   ]
  },
  {
   "cell_type": "code",
   "execution_count": null,
   "metadata": {
    "collapsed": true
   },
   "outputs": [],
   "source": []
  },
  {
   "cell_type": "code",
   "execution_count": 42,
   "metadata": {},
   "outputs": [
    {
     "data": {
      "image/png": "[encoded data removed]",
      "text/plain": [
       "<matplotlib.figure.Figure at 0x7f5582f1b048>"
      ]
     },
     "metadata": {
      "image/png": {
       "height": 358,
       "width": 410
      }
     },
     "output_type": "display_data"
    }
   ],
   "source": [
    "%matplotlib inline\n",
    "%config InlineBackend.figure_format = 'retina'\n",
    "\n",
    "import matplotlib.pyplot as plt\n",
    "from sklearn.manifold import TSNE\n",
    "\n",
    "viz_words = n_vocab\n",
    "tsne = TSNE()\n",
    "embed_tsne = tsne.fit_transform(embed_mat[:viz_words, :])\n",
    "\n",
    "fig, ax = plt.subplots(figsize=(6, 6))\n",
    "for idx in range(viz_words):\n",
    "    plt.scatter(*embed_tsne[idx, :], color='blue')\n",
    "    plt.annotate(int_to_vocab[idx], (embed_tsne[idx, 0], embed_tsne[idx, 1]), alpha=1, xytext=(embed_tsne[idx, 0]+1.5, embed_tsne[idx, 1]+1.5), fontsize=12)"
   ]
  },
  {
   "cell_type": "code",
   "execution_count": null,
   "metadata": {
    "collapsed": true
   },
   "outputs": [],
   "source": []
  }
 ],
 "metadata": {
  "kernelspec": {
   "display_name": "Python 3",
   "language": "python",
   "name": "python3"
  },
  "language_info": {
   "codemirror_mode": {
    "name": "ipython",
    "version": 3
   },
   "file_extension": ".py",
   "mimetype": "text/x-python",
   "name": "python",
   "nbconvert_exporter": "python",
   "pygments_lexer": "ipython3",
   "version": "3.5.4"
  }
 },
 "nbformat": 4,
 "nbformat_minor": 2
}
